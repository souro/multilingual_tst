{
 "cells": [
  {
   "cell_type": "code",
   "execution_count": null,
   "id": "8c62db58-35fb-4a6e-b691-5eba983505dd",
   "metadata": {},
   "outputs": [],
   "source": [
    "import pandas as pd\n",
    "import matplotlib.pyplot as plt\n",
    "import seaborn as sns\n",
    "from nltk.tokenize import word_tokenize\n",
    "from collections import Counter\n",
    "import numpy as np\n",
    "import os"
   ]
  },
  {
   "cell_type": "code",
   "execution_count": null,
   "id": "805c4a74-dc44-4aeb-aec2-ef71639d4536",
   "metadata": {},
   "outputs": [],
   "source": [
    "data_path = \"../../../multilingual-tst-datasets_private/\"\n",
    "languages = ['en', 'hi', 'mag', 'mr', 'ml', 'or', 'pa', 'te', 'ur']"
   ]
  },
  {
   "cell_type": "code",
   "execution_count": null,
   "id": "df7a26bf-873f-49ba-baf5-c17d79ead4c3",
   "metadata": {},
   "outputs": [],
   "source": [
    "avg_num_words_per_sentence = {}\n",
    "sentence_length_distributions = {}\n",
    "num_unique_words = {}\n",
    "word_frequency_distributions = {}\n",
    "word_length_distributions = {}"
   ]
  },
  {
   "cell_type": "code",
   "execution_count": null,
   "id": "d9d9ab22-f5ab-47c2-9936-840a639bd40c",
   "metadata": {},
   "outputs": [],
   "source": [
    "for lang in languages:\n",
    "    df_neg_to_pos = pd.read_csv(os.path.join(data_path, f\"{lang}_yelp_reference-0.csv\"))\n",
    "    df_pos_to_neg = pd.read_csv(os.path.join(data_path, f\"{lang}_yelp_reference-1.csv\"))\n",
    "\n",
    "    df_merged = pd.concat([df_neg_to_pos, df_pos_to_neg], ignore_index=True)\n",
    "\n",
    "    merged_text_list = (df_neg_to_pos['POSITIVE'] + ' ' + df_neg_to_pos['NEGATIVE']).tolist() + \\\n",
    "                       (df_pos_to_neg['POSITIVE'] + ' ' + df_pos_to_neg['NEGATIVE']).tolist()\n",
    "\n",
    "    sentences = [word_tokenize(text) for text in merged_text_list]\n",
    "    words = [word for sentence in sentences for word in sentence]\n",
    "\n",
    "    avg_num_words_per_sentence[lang] = np.mean([len(sentence) for sentence in sentences])\n",
    "\n",
    "    sentence_length_distributions[lang] = [len(sentence) for sentence in sentences]\n",
    "\n",
    "    num_unique_words[lang] = len(set(words))\n",
    "\n",
    "    word_freq = Counter(words)\n",
    "    word_frequency_distributions[lang] = word_freq\n",
    "\n",
    "    word_length_distributions[lang] = [len(word) for word in words]"
   ]
  },
  {
   "cell_type": "code",
   "execution_count": null,
   "id": "94316349-9ad8-4162-aca5-1c79ef4fe869",
   "metadata": {},
   "outputs": [],
   "source": [
    "# Average number of words per sentence\n",
    "plt.figure(figsize=(10, 6))\n",
    "plt.bar(avg_num_words_per_sentence.keys(), avg_num_words_per_sentence.values())\n",
    "plt.xlabel('Language')\n",
    "plt.ylabel('Average Number of Words per Sentence')\n",
    "plt.title('Average Number of Words per Sentence by Language')\n",
    "\n",
    "plt.tight_layout()\n",
    "# plt.show()\n",
    "save_path = os.path.join('figs/', f'avg_words.png')\n",
    "plt.savefig(save_path)\n",
    "plt.close()"
   ]
  },
  {
   "cell_type": "code",
   "execution_count": null,
   "id": "70184474-5731-4910-89ec-a06ef3c74997",
   "metadata": {},
   "outputs": [],
   "source": [
    "# Distribution of Sentence Lengths\n",
    "for lang, lengths in sentence_length_distributions.items():\n",
    "    plt.figure(figsize=(10, 6))\n",
    "    sns.histplot(lengths, kde=True)\n",
    "    plt.xlabel('Sentence Length (in words)')\n",
    "    plt.ylabel('Frequency')\n",
    "    plt.title(f'Sentence Length Distribution for {lang}')\n",
    "    plt.tight_layout()\n",
    "    # plt.show()\n",
    "    save_path = os.path.join('figs/', f'sent_ln_dist_{lang}.png')\n",
    "    plt.savefig(save_path)\n",
    "    plt.close()"
   ]
  },
  {
   "cell_type": "code",
   "execution_count": null,
   "id": "8f60169e-a370-47bb-928d-4f21a2df736e",
   "metadata": {},
   "outputs": [],
   "source": [
    "# Number of Unique Words\n",
    "plt.figure(figsize=(10, 6))\n",
    "plt.bar(num_unique_words.keys(), num_unique_words.values())\n",
    "plt.xlabel('Language')\n",
    "plt.ylabel('Number of Unique Words')\n",
    "plt.title('Number of Unique Words by Language')\n",
    "plt.tight_layout()\n",
    "# plt.show()\n",
    "save_path = os.path.join('figs/', f'unique_words.png')\n",
    "plt.savefig(save_path)\n",
    "plt.close()"
   ]
  },
  {
   "cell_type": "code",
   "execution_count": null,
   "id": "4c49ae88-dcc2-4504-b811-7b38a97bb8f6",
   "metadata": {},
   "outputs": [],
   "source": [
    "# Word Frequency Distribution\n",
    "for lang, freq_dist in word_frequency_distributions.items():\n",
    "    plt.figure(figsize=(10, 6))\n",
    "    top_words = freq_dist.most_common(20)\n",
    "    words, counts = zip(*top_words)\n",
    "    plt.bar(words, counts)\n",
    "    plt.xlabel('Words')\n",
    "    plt.ylabel('Frequency')\n",
    "    plt.title(f'Top 20 Words Frequency Distribution for {lang}')\n",
    "    plt.xticks(rotation=45)\n",
    "    plt.tight_layout()\n",
    "    # plt.show()\n",
    "    save_path = os.path.join('figs/', f'word_freq_dist_{lang}.png')\n",
    "    plt.savefig(save_path)\n",
    "    plt.close()"
   ]
  },
  {
   "cell_type": "code",
   "execution_count": null,
   "id": "a43f4f3f-8a1e-4eb5-a3b4-945b93ecaa63",
   "metadata": {},
   "outputs": [],
   "source": [
    "# Word Length Distribution\n",
    "for lang, lengths in word_length_distributions.items():\n",
    "    plt.figure(figsize=(10, 6))\n",
    "    sns.histplot(lengths, kde=True)\n",
    "    plt.xlabel('Word Length (in characters)')\n",
    "    plt.ylabel('Frequency')\n",
    "    plt.title(f'Word Length Distribution for {lang}')\n",
    "    plt.tight_layout()\n",
    "    # plt.show()\n",
    "    save_path = os.path.join('figs/', f'word_ln_dist_{lang}.png')\n",
    "    plt.savefig(save_path)\n",
    "    plt.close()"
   ]
  },
  {
   "cell_type": "code",
   "execution_count": null,
   "id": "558cbf45-4416-4d3b-9a56-24ed7ff7ade5",
   "metadata": {},
   "outputs": [],
   "source": [
    "# Language Comparison Metrics\n",
    "comparison_df = pd.DataFrame({\n",
    "    'Language': languages,\n",
    "    'Avg_Words_per_Sentence': [avg_num_words_per_sentence[lang] for lang in languages],\n",
    "    'Num_Unique_Words': [num_unique_words[lang] for lang in languages]\n",
    "})\n",
    "print(comparison_df)"
   ]
  },
  {
   "cell_type": "code",
   "execution_count": null,
   "id": "eccf8386-ffd2-4be0-acfe-6db05f8210fa",
   "metadata": {},
   "outputs": [],
   "source": [
    "# Correlation Analysis\n",
    "correlation_results = []\n",
    "\n",
    "for lang in languages:\n",
    "    df = pd.DataFrame({\n",
    "        'Sentence_Length': sentence_length_distributions[lang],\n",
    "        'Word_Length': [np.mean([len(word) for word in word_tokenize(sentence)]) for sentence in merged_text_list]\n",
    "    })\n",
    "    correlation = df.corr().iloc[0, 1]\n",
    "    correlation_results.append({\n",
    "        'Language': lang,\n",
    "        'Sentence_Length_to_Word_Length_Correlation': correlation\n",
    "    })\n",
    "\n",
    "correlation_df = pd.DataFrame(correlation_results)\n",
    "print(correlation_df)"
   ]
  },
  {
   "cell_type": "code",
   "execution_count": null,
   "id": "42924089-7011-474f-afab-bcde22dc6dad",
   "metadata": {},
   "outputs": [],
   "source": [
    "# Plot Correlation Results\n",
    "plt.figure(figsize=(10, 6))\n",
    "sns.barplot(x='Language', y='Sentence_Length_to_Word_Length_Correlation', data=correlation_df)\n",
    "plt.xlabel('Language')\n",
    "plt.ylabel('Correlation')\n",
    "plt.title('Correlation between Sentence Length and Word Length by Language')\n",
    "plt.ylim(-1, 1)  # Correlation values range from -1 to 1\n",
    "plt.tight_layout()\n",
    "# plt.show()\n",
    "save_path = os.path.join('figs/', f'corr_snln_wdln.png')\n",
    "plt.savefig(save_path)\n",
    "plt.close()"
   ]
  }
 ],
 "metadata": {
  "kernelspec": {
   "display_name": "Python 3 (ipykernel)",
   "language": "python",
   "name": "python3"
  },
  "language_info": {
   "codemirror_mode": {
    "name": "ipython",
    "version": 3
   },
   "file_extension": ".py",
   "mimetype": "text/x-python",
   "name": "python",
   "nbconvert_exporter": "python",
   "pygments_lexer": "ipython3",
   "version": "3.10.12"
  }
 },
 "nbformat": 4,
 "nbformat_minor": 5
}

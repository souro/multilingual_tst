{
 "cells": [
  {
   "cell_type": "code",
   "execution_count": null,
   "id": "0a1998ee-bc42-4a98-815c-58d4c3a6bca8",
   "metadata": {},
   "outputs": [],
   "source": [
    "import os\n",
    "import pandas as pd\n",
    "import random"
   ]
  },
  {
   "cell_type": "code",
   "execution_count": null,
   "id": "809289dc-f3f7-4751-9252-f7e9a8bbac0e",
   "metadata": {},
   "outputs": [],
   "source": [
    "seed_value = 53\n",
    "random.seed(seed_value)"
   ]
  },
  {
   "cell_type": "code",
   "execution_count": null,
   "id": "2f85f96f-0160-4e42-b88f-758b2fc3357b",
   "metadata": {},
   "outputs": [],
   "source": [
    "directory = '../output/'\n",
    "\n",
    "tasks = ['pos_to_neg', 'neg_to_pos']\n",
    "methodologies = ['parallel', 'joint', 'chatgpt35']\n",
    "languages = ['en', 'hi', 'mag']\n",
    "\n",
    "for lang in languages:\n",
    "    selected_data = []\n",
    "\n",
    "    for filename in os.listdir(directory):\n",
    "        if filename.endswith('.csv'):\n",
    "            \n",
    "            parts = filename.split('-')\n",
    "            task = parts[0]\n",
    "            current_lang = parts[1]\n",
    "            methodology = parts[2].split('.')[0]  # Remove the '.csv' extension\n",
    "\n",
    "            # Check if the file meets the criteria for the current language\n",
    "            if task in tasks and methodology in methodologies and current_lang == lang:\n",
    "                \n",
    "                df = pd.read_csv(os.path.join(directory, filename))\n",
    "\n",
    "                # Randomly select 25 rows\n",
    "                if task == 'pos_to_neg':\n",
    "                    selected_rows = df.sample(25)\n",
    "                elif task == 'neg_to_pos':\n",
    "                    selected_rows = df.sample(25)\n",
    "\n",
    "                selected_rows['methodology'] = methodology\n",
    "                selected_rows['task'] = task\n",
    "\n",
    "                selected_data.append(selected_rows)\n",
    "\n",
    "    result_df = pd.concat(selected_data)\n",
    "\n",
    "    result_df.to_csv(f'human_eval_{lang}.csv', index=False)"
   ]
  },
  {
   "cell_type": "code",
   "execution_count": null,
   "id": "16b2a345-5fb7-4cec-bf01-428ecdbdeb84",
   "metadata": {
    "tags": []
   },
   "outputs": [],
   "source": [
    "df_human_eval_report = pd.read_csv('', index_col = False)\n",
    "print(df_human_eval_report.head())"
   ]
  },
  {
   "cell_type": "code",
   "execution_count": null,
   "id": "12e3f25a-1be1-47f4-8718-0ab62ff7ce38",
   "metadata": {},
   "outputs": [],
   "source": [
    "df_human_eval_report = df_human_eval_report.loc[:, ~df_human_eval_report.columns.str.contains('^Unnamed')]"
   ]
  },
  {
   "cell_type": "code",
   "execution_count": null,
   "id": "6331e7c3-cb46-4cf9-9891-abb930983bf4",
   "metadata": {},
   "outputs": [],
   "source": [
    "print(df_human_eval_report.head())"
   ]
  },
  {
   "cell_type": "code",
   "execution_count": null,
   "id": "58c47a84-9a15-4128-af32-3fcf464f6170",
   "metadata": {
    "tags": []
   },
   "outputs": [],
   "source": [
    "def avg_score(methodology, metric_list):\n",
    "    parallel = list()\n",
    "    joint = list()\n",
    "    chatgpt35 = list()\n",
    "    \n",
    "    for idx, i in enumerate(methodology):\n",
    "        if 'parallel' in (i):\n",
    "            parallel.append(int(metric_list[idx]))\n",
    "        elif 'joint' in (i):\n",
    "            joint.append(int(metric_list[idx]))\n",
    "        elif 'chatgpt35' in (i):\n",
    "            chatgpt35.append(int(metric_list[idx]))\n",
    "    return sum(parallel)/len(parallel),sum(joint)/len(joint), sum(chatgpt35)/len(chatgpt35)"
   ]
  },
  {
   "cell_type": "code",
   "execution_count": null,
   "id": "c344a969-0d2c-4881-848e-c88a7399d97b",
   "metadata": {
    "tags": []
   },
   "outputs": [],
   "source": [
    "res = avg_score(df_human_eval_report['methodology'].values.tolist(), df_human_eval_report['style_accuracy'].values.tolist())\n",
    "print(res)"
   ]
  },
  {
   "cell_type": "code",
   "execution_count": null,
   "id": "20a3ecf2-2696-4c96-8831-b39fbe61c45b",
   "metadata": {
    "tags": []
   },
   "outputs": [],
   "source": [
    "res = avg_score(df_human_eval_report['methodology'].values.tolist(), df_human_eval_report['content_preservation'].values.tolist())\n",
    "print(res)"
   ]
  },
  {
   "cell_type": "code",
   "execution_count": null,
   "id": "397e4d09-7431-4c21-a1e2-c8501f054d99",
   "metadata": {
    "tags": []
   },
   "outputs": [],
   "source": [
    "res = avg_score(df_human_eval_report['methodology'].values.tolist(), df_human_eval_report['fluency'].values.tolist())\n",
    "print(res)"
   ]
  }
 ],
 "metadata": {
  "kernelspec": {
   "display_name": "Python 3 (ipykernel)",
   "language": "python",
   "name": "python3"
  },
  "language_info": {
   "codemirror_mode": {
    "name": "ipython",
    "version": 3
   },
   "file_extension": ".py",
   "mimetype": "text/x-python",
   "name": "python",
   "nbconvert_exporter": "python",
   "pygments_lexer": "ipython3",
   "version": "3.10.12"
  }
 },
 "nbformat": 4,
 "nbformat_minor": 5
}
